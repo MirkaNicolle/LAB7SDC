{
  "nbformat": 4,
  "nbformat_minor": 0,
  "metadata": {
    "colab": {
      "provenance": []
    },
    "kernelspec": {
      "name": "python3",
      "display_name": "Python 3"
    },
    "language_info": {
      "name": "python"
    }
  },
  "cells": [
    {
      "cell_type": "markdown",
      "source": [
        "# Laboratorio 7 - Seguridad en modelos de data science"
      ],
      "metadata": {
        "id": "Xr4Ge9TAOtKa"
      }
    },
    {
      "cell_type": "code",
      "source": [
        "import numpy as np\n",
        "import pandas as pd\n",
        "import seaborn as sns\n",
        "import tensorflow as tf\n",
        "from tensorflow import keras\n",
        "from keras.constraints import maxnorm\n",
        "from keras.preprocessing.image import ImageDataGenerator\n",
        "from sklearn.model_selection import train_test_split\n",
        "\n"
      ],
      "metadata": {
        "id": "_Awxm6vbK_4A"
      },
      "execution_count": 8,
      "outputs": []
    },
    {
      "cell_type": "code",
      "source": [
        "from google.colab import drive\n",
        "drive.mount('/content/drive')"
      ],
      "metadata": {
        "colab": {
          "base_uri": "https://localhost:8080/"
        },
        "id": "ClBsTRjyLWwy",
        "outputId": "62d2a9e9-b8c1-4cdf-d8f9-c00d84eb3cf9"
      },
      "execution_count": 3,
      "outputs": [
        {
          "output_type": "stream",
          "name": "stdout",
          "text": [
            "Mounted at /content/drive\n"
          ]
        }
      ]
    },
    {
      "cell_type": "code",
      "source": [
        "DATA_DIRECTORY = '/content/drive/MyDrive/B'"
      ],
      "metadata": {
        "id": "AibTuE6DLosM"
      },
      "execution_count": 5,
      "outputs": []
    },
    {
      "cell_type": "markdown",
      "source": [
        "carga de imagees"
      ],
      "metadata": {
        "id": "yR_H1Q1NL5Ag"
      }
    },
    {
      "cell_type": "code",
      "source": [
        "path_images = ImageDataGenerator().flow_from_directory(directory=DATA_DIRECTORY, target_size=(128,128), batch_size=10000)"
      ],
      "metadata": {
        "id": "QjNm8ij5XrtQ",
        "colab": {
          "base_uri": "https://localhost:8080/"
        },
        "outputId": "928d01cd-ae49-4a15-d667-26f8902b0dc3"
      },
      "execution_count": 6,
      "outputs": [
        {
          "output_type": "stream",
          "name": "stdout",
          "text": [
            "Found 9339 images belonging to 25 classes.\n"
          ]
        }
      ]
    },
    {
      "cell_type": "code",
      "source": [
        "images, marks = next(path_images)"
      ],
      "metadata": {
        "id": "m67JqOZTNLaC"
      },
      "execution_count": 10,
      "outputs": []
    },
    {
      "cell_type": "code",
      "source": [
        "indices_path = path_images.class_indices"
      ],
      "metadata": {
        "id": "U-qRbXfTNPUk"
      },
      "execution_count": 11,
      "outputs": []
    },
    {
      "cell_type": "code",
      "source": [
        "type_images = indices_path.keys()"
      ],
      "metadata": {
        "id": "7XIWX48HNS2R"
      },
      "execution_count": 12,
      "outputs": []
    },
    {
      "cell_type": "code",
      "source": [
        "add = sum(marks)\n",
        "marks_qt = marks.shape[0]"
      ],
      "metadata": {
        "id": "HEDF0Nr3NVSE"
      },
      "execution_count": 13,
      "outputs": []
    },
    {
      "cell_type": "code",
      "source": [
        "X_train, X_test, y_train, y_test = train_test_split(images/255.,marks, test_size=0.3)"
      ],
      "metadata": {
        "id": "0fReZGwKMQML"
      },
      "execution_count": 14,
      "outputs": []
    },
    {
      "cell_type": "markdown",
      "source": [
        "###Modelo"
      ],
      "metadata": {
        "id": "MEofeD5TOrkw"
      }
    },
    {
      "cell_type": "code",
      "source": [
        "model = keras.Sequential()\n",
        "model.add(keras.layers.Conv2D(32, (5, 5), input_shape=(128, 128, 3), activation='relu', padding='same'))\n",
        "model.add(keras.layers.MaxPooling2D(2))\n",
        "model.add(keras.layers.Conv2D(64, (3, 3), activation='relu'))\n",
        "model.add(keras.layers.Conv2D(128, (3, 3), activation='relu'))\n",
        "model.add(keras.layers.Flatten())\n",
        "model.add(keras.layers.Dense(128, activation='relu'))\n",
        "model.add(keras.layers.Dense(25, activation='softmax'))"
      ],
      "metadata": {
        "id": "vfEfUmUnOtyA"
      },
      "execution_count": 15,
      "outputs": []
    },
    {
      "cell_type": "code",
      "source": [
        "model.summary()"
      ],
      "metadata": {
        "colab": {
          "base_uri": "https://localhost:8080/"
        },
        "id": "geDePUF2Ozni",
        "outputId": "74ba7c49-8393-4cdf-d4c3-e09f9e0929c5"
      },
      "execution_count": 16,
      "outputs": [
        {
          "output_type": "stream",
          "name": "stdout",
          "text": [
            "Model: \"sequential\"\n",
            "_________________________________________________________________\n",
            " Layer (type)                Output Shape              Param #   \n",
            "=================================================================\n",
            " conv2d (Conv2D)             (None, 128, 128, 32)      2432      \n",
            "                                                                 \n",
            " max_pooling2d (MaxPooling2D  (None, 64, 64, 32)       0         \n",
            " )                                                               \n",
            "                                                                 \n",
            " conv2d_1 (Conv2D)           (None, 62, 62, 64)        18496     \n",
            "                                                                 \n",
            " conv2d_2 (Conv2D)           (None, 60, 60, 128)       73856     \n",
            "                                                                 \n",
            " flatten (Flatten)           (None, 460800)            0         \n",
            "                                                                 \n",
            " dense (Dense)               (None, 128)               58982528  \n",
            "                                                                 \n",
            " dense_1 (Dense)             (None, 25)                3225      \n",
            "                                                                 \n",
            "=================================================================\n",
            "Total params: 59,080,537\n",
            "Trainable params: 59,080,537\n",
            "Non-trainable params: 0\n",
            "_________________________________________________________________\n"
          ]
        }
      ]
    },
    {
      "cell_type": "code",
      "source": [
        "model.compile(loss='categorical_crossentropy', optimizer='adam', metrics=['accuracy'])"
      ],
      "metadata": {
        "id": "6wxWCpF5O4lK"
      },
      "execution_count": 17,
      "outputs": []
    },
    {
      "cell_type": "code",
      "source": [
        "op = model.evaluate(X_test, y_test)\n",
        "print(\"Accuracy \", op[1])"
      ],
      "metadata": {
        "colab": {
          "base_uri": "https://localhost:8080/"
        },
        "id": "BO9XIT9-O8Nk",
        "outputId": "db049c1b-a269-4737-a8ab-87c56797a64b"
      },
      "execution_count": 18,
      "outputs": [
        {
          "output_type": "stream",
          "name": "stdout",
          "text": [
            "88/88 [==============================] - 68s 769ms/step - loss: 3.2523 - accuracy: 0.0214\n",
            "Accuracy  0.021413275972008705\n"
          ]
        }
      ]
    },
    {
      "cell_type": "code",
      "source": [
        "model.fit(X_train, y_train, validation_data=(X_test, y_test), epochs=4)"
      ],
      "metadata": {
        "colab": {
          "base_uri": "https://localhost:8080/"
        },
        "id": "nlu5JspwPBWb",
        "outputId": "f9a99aa9-589a-4f07-c561-b7764217efdb"
      },
      "execution_count": 19,
      "outputs": [
        {
          "output_type": "stream",
          "name": "stdout",
          "text": [
            "Epoch 1/4\n",
            "205/205 [==============================] - 776s 4s/step - loss: 0.7007 - accuracy: 0.8541 - val_loss: 0.1433 - val_accuracy: 0.9493\n",
            "Epoch 2/4\n",
            "205/205 [==============================] - 796s 4s/step - loss: 0.0788 - accuracy: 0.9781 - val_loss: 0.1176 - val_accuracy: 0.9743\n",
            "Epoch 3/4\n",
            "205/205 [==============================] - 841s 4s/step - loss: 0.0285 - accuracy: 0.9924 - val_loss: 0.0984 - val_accuracy: 0.9779\n",
            "Epoch 4/4\n",
            "205/205 [==============================] - 842s 4s/step - loss: 0.0108 - accuracy: 0.9968 - val_loss: 0.1025 - val_accuracy: 0.9714\n"
          ]
        },
        {
          "output_type": "execute_result",
          "data": {
            "text/plain": [
              "<keras.callbacks.History at 0x7f3de02f5e10>"
            ]
          },
          "metadata": {},
          "execution_count": 19
        }
      ]
    },
    {
      "cell_type": "code",
      "source": [
        "model.save('/content/drive/MyDrive/B/model.h5')"
      ],
      "metadata": {
        "id": "oPqAIhwBPIWI"
      },
      "execution_count": 20,
      "outputs": []
    },
    {
      "cell_type": "markdown",
      "source": [
        "Ataque de evasion"
      ],
      "metadata": {
        "id": "WesjSU6qXshs"
      }
    },
    {
      "cell_type": "code",
      "source": [],
      "metadata": {
        "id": "yZTMuYgXP1Eb"
      },
      "execution_count": null,
      "outputs": []
    },
    {
      "cell_type": "markdown",
      "source": [
        "Ataque de extraccion"
      ],
      "metadata": {
        "id": "cgMDighTYD-1"
      }
    },
    {
      "cell_type": "code",
      "source": [],
      "metadata": {
        "id": "_2veTOYlYIJ7"
      },
      "execution_count": null,
      "outputs": []
    }
  ]
}